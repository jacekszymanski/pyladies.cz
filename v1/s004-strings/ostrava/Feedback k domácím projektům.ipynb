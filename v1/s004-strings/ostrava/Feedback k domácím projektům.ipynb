{
 "cells": [
  {
   "cell_type": "markdown",
   "metadata": {},
   "source": [
    "## Tah hráče"
   ]
  },
  {
   "cell_type": "markdown",
   "metadata": {},
   "source": [
    "### Je tam opravdu vše potřeba?"
   ]
  },
  {
   "cell_type": "code",
   "execution_count": null,
   "metadata": {},
   "outputs": [],
   "source": [
    "def tah_hrace (pole):\n",
    "    'Vrátí herní pole se zaznamenaným tahem hráče'\n",
    "    t = 0\n",
    "    while t == 0:\n",
    "        pozice = int(input('Na které políčko chceš hrát? '))\n",
    "        if (pozice > 0) and (pozice<=20) and (pole[pozice-1] == '-'):\n",
    "            return tah(pole,pozice,'x')\n",
    "            t = 1\n",
    "        else:\n",
    "            print('Špatně zadaná pozice, zkus to znovu.')"
   ]
  },
  {
   "cell_type": "markdown",
   "metadata": {},
   "source": [
    "### Není"
   ]
  },
  {
   "cell_type": "code",
   "execution_count": null,
   "metadata": {},
   "outputs": [],
   "source": [
    "def tah_hrace(pole):\n",
    "    'Vrátí herní pole se zaznamenaným tahem hráče'\n",
    "    while True:\n",
    "        pozice = int(input('Na které políčko chceš hrát? '))\n",
    "        if (pozice > 0) and (pozice<=20) and (pole[pozice-1] == '-'):\n",
    "            return tah(pole,pozice,'x')\n",
    "        else:\n",
    "            print('Špatně zadaná pozice, zkus to znovu.')"
   ]
  },
  {
   "cell_type": "markdown",
   "metadata": {},
   "source": [
    "## Vyhodnocení piškvorek"
   ]
  },
  {
   "cell_type": "markdown",
   "metadata": {},
   "source": [
    "### Co by se tady dalo udělat jednodušeji?"
   ]
  },
  {
   "cell_type": "code",
   "execution_count": null,
   "metadata": {},
   "outputs": [],
   "source": [
    "def vyhodnot(pole):\n",
    "    \"Vyhodnotí stav pole.\"\n",
    "    krizek = \"xxx\"\n",
    "    kolecko = \"ooo\"\n",
    "    volno = \"-\"\n",
    "    if krizek in pole and kolecko not in pole:\n",
    "        return(\"x\")\n",
    "    elif kolecko in pole and krizek not in pole:\n",
    "        return(\"o\")\n",
    "    elif volno not in pole and krizek not in pole and kolecko not in pole:\n",
    "        return(\"!\")\n",
    "    else:\n",
    "        None"
   ]
  },
  {
   "cell_type": "markdown",
   "metadata": {},
   "source": [
    "### Upravená varianta"
   ]
  },
  {
   "cell_type": "code",
   "execution_count": null,
   "metadata": {},
   "outputs": [],
   "source": [
    "def vyhodnot(pole):\n",
    "    \"Vyhodnotí stav pole.\"\n",
    "    if 'xxx' in pole:\n",
    "        return(\"x\")\n",
    "    elif 'ooo' in pole:\n",
    "        return(\"o\")\n",
    "    elif '-' not in pole:\n",
    "        return(\"!\")\n",
    "    else:\n",
    "        return '-'"
   ]
  },
  {
   "cell_type": "markdown",
   "metadata": {},
   "source": [
    "## Piškvorky"
   ]
  },
  {
   "cell_type": "code",
   "execution_count": null,
   "metadata": {},
   "outputs": [],
   "source": [
    "from random import randrange\n",
    "\n",
    "def vyhodnot(pole):\n",
    "    \"Vyhodnotí stav pole.\"\n",
    "    if 'xxx' in pole:\n",
    "        return(\"x\")\n",
    "    elif 'ooo' in pole:\n",
    "        return(\"o\")\n",
    "    elif '-' not in pole:\n",
    "        return(\"!\")\n",
    "    else:\n",
    "        return '-'\n",
    "\n",
    "def tah(pole, pozice, symbol):\n",
    "    \"Vrátí herní pole s daným symbolem umístěným na danou pozici.\"\n",
    "    return pole[:pozice] + symbol + pole[pozice + 1:]\n",
    "\n",
    "def tah_hrace(herni_pole):\n",
    "    \"Ptá se hráče na kterou pozici chce hrát a vrací herní pole se zaznamenaným tahem\"\n",
    "    while True:\n",
    "        cislo_pozice = int(input(\"Na kterou pozici chceš hrát? \"))\n",
    "        if cislo_pozice >= 0 and cislo_pozice < len(herni_pole) and herni_pole[cislo_pozice] == \"-\":\n",
    "            return tah(herni_pole, cislo_pozice, \"x\")\n",
    "        else:\n",
    "            print(\"Špatná pozice, zkus to znovu. \")\n",
    "\n",
    "def tah_pocitace(herni_pole):\n",
    "    \"Vrátí herní pole se zaznamenaným tahem počítače. \"\n",
    "    while True:\n",
    "        cislo_pozice = randrange(len(herni_pole))\n",
    "        if herni_pole[cislo_pozice] == \"-\":\n",
    "            return tah(herni_pole, cislo_pozice, \"o\")\n",
    "\n",
    "def piskvorky():\n",
    "    \"Vygeneruje prázdné pole a střídá tah hráče a počítače. \"\n",
    "    pole = \"-\" * 20\n",
    "    while True:\n",
    "        print(pole)\n",
    "        pole = tah_hrace(pole)\n",
    "        print(pole)\n",
    "        if vyhodnot(pole) != '-':\n",
    "            break\n",
    "        pole = tah_pocitace(pole)\n",
    "        if vyhodnot(pole) != '-':\n",
    "            break\n",
    "    \n",
    "    print(pole)\n",
    "    if vyhodnot(pole) == '!':\n",
    "        print('Remíza!')\n",
    "    elif vyhodnot(pole) == 'x':\n",
    "        print('Vyhrála jsi!')\n",
    "    elif vyhodnot(pole) == 'o':\n",
    "        print('Vyhrál počítač!')\n",
    "\n",
    "piskvorky()"
   ]
  },
  {
   "cell_type": "markdown",
   "metadata": {},
   "source": [
    "## Obecné rady a doporučení"
   ]
  },
  {
   "cell_type": "markdown",
   "metadata": {},
   "source": [
    "- Je zbytečné volat `print` na funkci, která nic nevrací."
   ]
  }
 ],
 "metadata": {
  "kernelspec": {
   "display_name": "Python 3",
   "language": "python",
   "name": "python3"
  },
  "language_info": {
   "codemirror_mode": {
    "name": "ipython",
    "version": 3
   },
   "file_extension": ".py",
   "mimetype": "text/x-python",
   "name": "python",
   "nbconvert_exporter": "python",
   "pygments_lexer": "ipython3",
   "version": "3.6.4"
  }
 },
 "nbformat": 4,
 "nbformat_minor": 2
}
