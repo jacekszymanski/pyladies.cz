{
 "cells": [
  {
   "cell_type": "markdown",
   "metadata": {
    "slideshow": {
     "slide_type": "slide"
    }
   },
   "source": [
    "## Skautská hra"
   ]
  },
  {
   "cell_type": "markdown",
   "metadata": {
    "slideshow": {
     "slide_type": "slide"
    }
   },
   "source": [
    "Řešení bez slovníků, ale hlavně takové, kde by nebylo úplně snadné přidat další otázky."
   ]
  },
  {
   "cell_type": "code",
   "execution_count": null,
   "metadata": {
    "slideshow": {
     "slide_type": "fragment"
    }
   },
   "outputs": [],
   "source": [
    "import random\n",
    "\n",
    "kdo_seznam = []\n",
    "s_kym_seznam = []\n",
    "kde_seznam = []\n",
    "co_delali_seznam = []\n",
    "proc_seznam = []\n",
    "for pocet in range(3):\n",
    "    kdo = input('Kdo? ')\n",
    "    kdo_seznam.append(kdo)\n",
    "    s_kym = input('S kým? ')\n",
    "    s_kym_seznam.append(s_kym)\n",
    "    kde = input('Kde? ')\n",
    "    kde_seznam.append(kde)\n",
    "    co_delali = input('Co dělali? ')\n",
    "    co_delali_seznam.append(co_delali)\n",
    "    proc = input('Proč? ')\n",
    "    proc_seznam.append(proc)\n",
    "print(random.choice(kdo_seznam), 's', random.choice(s_kym_seznam),'v', random.choice(kde_seznam), random.choice(co_delali_seznam), random.choice(proc_seznam))"
   ]
  },
  {
   "cell_type": "markdown",
   "metadata": {
    "slideshow": {
     "slide_type": "slide"
    }
   },
   "source": [
    "Řešení, kde přidání, změna či odebrání jakékoli otázky znamená jen změnu na jednom míste v seznamu otázek."
   ]
  },
  {
   "cell_type": "code",
   "execution_count": null,
   "metadata": {
    "slideshow": {
     "slide_type": "fragment"
    }
   },
   "outputs": [],
   "source": [
    "from random import choice\n",
    "\n",
    "otazky = ['Kdo', 'S kym', 'Co delali', 'Kde']\n",
    "\n",
    "odpovedi = {}\n",
    "for otazka in otazky:\n",
    "    odpovedi[otazka] = []\n",
    "\n",
    "# Alternativní cesta\n",
    "# odpovedi = {otazka: [] for otazka in otazky}\n",
    "    \n",
    "for otazka in otazky:\n",
    "    while True:\n",
    "        odpoved = input('Zadej odpoved na otazku {}? '.format(otazka))\n",
    "        if odpoved == '':\n",
    "            break\n",
    "        else:\n",
    "            odpovedi[otazka].append(odpoved)\n",
    "\n",
    "veta = ''\n",
    "\n",
    "for otazka in otazky:\n",
    "    veta = veta + choice(odpovedi[otazka]) + ' '\n",
    "\n",
    "print(veta)"
   ]
  },
  {
   "cell_type": "markdown",
   "metadata": {
    "slideshow": {
     "slide_type": "slide"
    }
   },
   "source": [
    "## Obecné rady a postřehy"
   ]
  },
  {
   "cell_type": "markdown",
   "metadata": {
    "slideshow": {
     "slide_type": "fragment"
    }
   },
   "source": [
    "* Pokud nevracíme n-tici, nepoužíváme za `return` závorky\n",
    "  * `return (n)` je matoucí, správně by mělo být napáno jen `return n`\n",
    "  * `return  (x, y)` je správně, ale pro jednoduchost můžeme závorky klině vynechat a napsat jen `return x, y`\n",
    "* Pochvala za validaci inputů\n",
    "  * Ještě větší pochvala za validaci s pomocí výjimek\n",
    "* Pochvala za dokumentační řetězce\n",
    "  * Ještě větší pochvala za dokumentační řetězce ve třech uvozovkách\n",
    "    * A ještě větší pochvala těm, kdož jsou konzistentní a dávají dokumentační řetězce úplně všude"
   ]
  }
 ],
 "metadata": {
  "kernelspec": {
   "display_name": "Python 3",
   "language": "python",
   "name": "python3"
  },
  "language_info": {
   "codemirror_mode": {
    "name": "ipython",
    "version": 3
   },
   "file_extension": ".py",
   "mimetype": "text/x-python",
   "name": "python",
   "nbconvert_exporter": "python",
   "pygments_lexer": "ipython3",
   "version": "3.5.4"
  }
 },
 "nbformat": 4,
 "nbformat_minor": 2
}
