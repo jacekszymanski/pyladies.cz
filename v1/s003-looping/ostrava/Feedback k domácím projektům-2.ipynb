{
 "cells": [
  {
   "cell_type": "markdown",
   "metadata": {
    "slideshow": {
     "slide_type": "slide"
    }
   },
   "source": [
    "# Feedback k domácím projektům"
   ]
  },
  {
   "cell_type": "markdown",
   "metadata": {
    "slideshow": {
     "slide_type": "slide"
    }
   },
   "source": [
    "## For poprvé"
   ]
  },
  {
   "cell_type": "markdown",
   "metadata": {},
   "source": [
    "Opravdu by se na tohle nedal použít cyklus tak, abychom nemuseli opakovat `print` ručně?"
   ]
  },
  {
   "cell_type": "code",
   "execution_count": 2,
   "metadata": {
    "slideshow": {
     "slide_type": "fragment"
    }
   },
   "outputs": [
    {
     "name": "stdout",
     "output_type": "stream",
     "text": [
      "X\n",
      "X X  X X X  X X X X  X\n",
      "X X  X X X  X X X X  X\n",
      "X X  X X X  X X X X  X\n",
      "X X  X X X  X X X X  "
     ]
    }
   ],
   "source": [
    "for X in range(4):\n",
    "    print(\"X\")\n",
    "    print(\"X X \", end=\" \")\n",
    "    print(\"X X X \", end=\" \")\n",
    "    print(\"X X X X \", end=\" \")"
   ]
  },
  {
   "cell_type": "markdown",
   "metadata": {
    "slideshow": {
     "slide_type": "slide"
    }
   },
   "source": [
    "## For podruhé"
   ]
  },
  {
   "cell_type": "markdown",
   "metadata": {},
   "source": [
    "Opravdu je nutné psát cyklus i tam, kde se operace vykoná jen jednou?"
   ]
  },
  {
   "cell_type": "code",
   "execution_count": 4,
   "metadata": {
    "slideshow": {
     "slide_type": "fragment"
    }
   },
   "outputs": [
    {
     "name": "stdout",
     "output_type": "stream",
     "text": [
      "XXXXX\n",
      "XXXXX\n",
      "XXXXX\n",
      "XXXXX\n",
      "XXXXX\n"
     ]
    }
   ],
   "source": [
    "X = \"X\"\n",
    "for i in X:\n",
    "    for X in range(5):\n",
    "        print(i*5,end=\"\\n\")"
   ]
  },
  {
   "cell_type": "markdown",
   "metadata": {
    "slideshow": {
     "slide_type": "slide"
    }
   },
   "source": [
    "## Obecné připomínky a rady"
   ]
  },
  {
   "cell_type": "markdown",
   "metadata": {
    "slideshow": {
     "slide_type": "-"
    }
   },
   "source": [
    "* Udržujeme importy konzistentní\n",
    "* Kontrola prázdných souborů\n",
    "* Pokud máte na výpis použít cyklus, udělejte to. Psát printy pod sebe na více řádků není hezké ani udržovatelné."
   ]
  }
 ],
 "metadata": {
  "celltoolbar": "Slideshow",
  "kernelspec": {
   "display_name": "Python 3",
   "language": "python",
   "name": "python3"
  },
  "language_info": {
   "codemirror_mode": {
    "name": "ipython",
    "version": 3
   },
   "file_extension": ".py",
   "mimetype": "text/x-python",
   "name": "python",
   "nbconvert_exporter": "python",
   "pygments_lexer": "ipython3",
   "version": "3.6.4"
  }
 },
 "nbformat": 4,
 "nbformat_minor": 2
}
